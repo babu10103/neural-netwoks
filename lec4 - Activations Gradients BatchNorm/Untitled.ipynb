{
 "cells": [
  {
   "cell_type": "code",
   "execution_count": 2,
   "id": "6d951f99-0843-4962-a371-74003d8ddac2",
   "metadata": {},
   "outputs": [],
   "source": [
    "import torch\n",
    "# MLP\n",
    "n_embd = 10 # the dimentionality of the character embedding vectors\n",
    "n_hidden = 200 # the number of neurons in the hidden layer of the MLP\n",
    "\n",
    "g = torch.Generator().manual_seed(2147483647) # random number generator. seed is used to generate same random numbers generated every time we run the program. \n",
    "\n",
    "C = torch.randn((5, n_embd),             generator=g)\n"
   ]
  },
  {
   "cell_type": "code",
   "execution_count": 4,
   "id": "28896463-cb64-4147-8725-6e4a9669f853",
   "metadata": {},
   "outputs": [
    {
     "data": {
      "text/plain": [
       "torch.Size([5, 10])"
      ]
     },
     "execution_count": 4,
     "metadata": {},
     "output_type": "execute_result"
    }
   ],
   "source": [
    "C.shape"
   ]
  }
 ],
 "metadata": {
  "kernelspec": {
   "display_name": "Python 3 (ipykernel)",
   "language": "python",
   "name": "python3"
  },
  "language_info": {
   "codemirror_mode": {
    "name": "ipython",
    "version": 3
   },
   "file_extension": ".py",
   "mimetype": "text/x-python",
   "name": "python",
   "nbconvert_exporter": "python",
   "pygments_lexer": "ipython3",
   "version": "3.12.9"
  }
 },
 "nbformat": 4,
 "nbformat_minor": 5
}
