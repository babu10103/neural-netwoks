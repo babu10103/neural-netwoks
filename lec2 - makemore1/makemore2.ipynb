{
 "cells": [
  {
   "cell_type": "code",
   "execution_count": 314,
   "id": "7e42b3be-8cc3-4d39-b6ae-eea41a045095",
   "metadata": {},
   "outputs": [],
   "source": [
    "import torch\n",
    "import torch.nn.functional as F\n",
    "import matplotlib.pyplot as plt \n",
    "%matplotlib inline"
   ]
  },
  {
   "cell_type": "code",
   "execution_count": 315,
   "id": "06ead1ea-3e61-4fd1-9f8f-6593b6732d24",
   "metadata": {},
   "outputs": [
    {
     "data": {
      "text/plain": [
       "['emma', 'olivia', 'ava', 'isabella', 'sophia']"
      ]
     },
     "execution_count": 315,
     "metadata": {},
     "output_type": "execute_result"
    }
   ],
   "source": [
    "words = open(r\"C:\\Users\\banda\\Downloads\\names.txt\", 'r').read().splitlines()\n",
    "words[:5]"
   ]
  },
  {
   "cell_type": "code",
   "execution_count": 373,
   "id": "2e40dd02-de95-4d6f-9648-c00aa2480689",
   "metadata": {},
   "outputs": [
    {
     "name": "stdout",
     "output_type": "stream",
     "text": [
      "{1: 'a', 2: 'b', 3: 'c', 4: 'd', 5: 'e', 6: 'f', 7: 'g', 8: 'h', 9: 'i', 10: 'j', 11: 'k', 12: 'l', 13: 'm', 14: 'n', 15: 'o', 16: 'p', 17: 'q', 18: 'r', 19: 's', 20: 't', 21: 'u', 22: 'v', 23: 'w', 24: 'x', 25: 'y', 26: 'z', 0: '.'}\n"
     ]
    }
   ],
   "source": [
    "chars = sorted(list(set(''.join(words))))\n",
    "stoi = {s: i+1 for i,s in enumerate(chars)}\n",
    "stoi['.'] = 0\n",
    "itos = {i:s for s, i in stoi.items()}\n",
    "print(itos)"
   ]
  },
  {
   "cell_type": "markdown",
   "id": "b95d1ddc-07e3-4b40-b888-f7ea3a75bc9e",
   "metadata": {},
   "source": [
    "## dataset building"
   ]
  },
  {
   "cell_type": "code",
   "execution_count": 371,
   "id": "2c4a76b1-b7b7-4353-b239-4a124b47f067",
   "metadata": {},
   "outputs": [],
   "source": [
    "# block_size: context length, how many characters do we take to predict the next one\n",
    "block_size = 3\n",
    "# X -> input to the nueralnet\n",
    "# Y -> labels for each example inside X\n",
    "X, Y = [], []\n",
    "for w in words:\n",
    "    # print(w)\n",
    "    context = [0] * block_size\n",
    "    for ch in w+'.':\n",
    "        ix = stoi[ch]\n",
    "        X.append(context)\n",
    "        Y.append(ix)\n",
    "        # print(''.join(itos[i] for i in context), '--->', itos[ix])\n",
    "        context = context[1:]+[ix]\n",
    "X = torch.tensor(X)\n",
    "Y = torch.tensor(Y)"
   ]
  },
  {
   "cell_type": "code",
   "execution_count": 374,
   "id": "4981b002-a985-4f6f-a724-e75004c9ff11",
   "metadata": {},
   "outputs": [
    {
     "name": "stdout",
     "output_type": "stream",
     "text": [
      "torch.Size([182437, 3]) torch.Size([182437])\n",
      "torch.Size([22781, 3]) torch.Size([22781])\n",
      "torch.Size([22928, 3]) torch.Size([22928])\n"
     ]
    }
   ],
   "source": [
    "def build_dataset(words):\n",
    "    block_size = 3\n",
    "    X, Y = [], []\n",
    "    for w in words:\n",
    "        context = [0] * block_size\n",
    "        for ch in w+'.':\n",
    "            ix = stoi[ch]\n",
    "            X.append(context)\n",
    "            Y.append(ix)\n",
    "            context = context[1:] + [ix]\n",
    "    X = torch.tensor(X)\n",
    "    Y = torch.tensor(Y)\n",
    "    print(X.shape, Y.shape)\n",
    "    return X, Y\n",
    "\n",
    "import random\n",
    "random.seed(42)\n",
    "random.shuffle(words)\n",
    "n1 = int(0.8*len(words))\n",
    "n2 = int(0.9*len(words))\n",
    "\n",
    "Xtr, Ytr = build_dataset(words[:n1])\n",
    "Xdev, Ydev = build_dataset(words[n1:n2])\n",
    "Xte, Yte = build_dataset(words[n2:])\n"
   ]
  },
  {
   "cell_type": "code",
   "execution_count": null,
   "id": "69a987f7-18c8-4986-934d-9e3fbd08c214",
   "metadata": {},
   "outputs": [],
   "source": []
  },
  {
   "cell_type": "code",
   "execution_count": 375,
   "id": "75dd67fa-446a-43ae-bc98-ff485c0b3a7b",
   "metadata": {},
   "outputs": [
    {
     "data": {
      "text/plain": [
       "(torch.Size([228146, 3]), torch.int64, torch.Size([228146]), torch.int64)"
      ]
     },
     "execution_count": 375,
     "metadata": {},
     "output_type": "execute_result"
    }
   ],
   "source": [
    "X.shape, X.dtype, Y.shape, Y.dtype"
   ]
  },
  {
   "cell_type": "code",
   "execution_count": 320,
   "id": "2d479197-6bed-466e-b695-2ae72277db41",
   "metadata": {},
   "outputs": [
    {
     "data": {
      "text/plain": [
       "(tensor([[ 0,  0,  0],\n",
       "         [ 0,  0,  5],\n",
       "         [ 0,  5, 13],\n",
       "         ...,\n",
       "         [26, 26, 25],\n",
       "         [26, 25, 26],\n",
       "         [25, 26, 24]]),\n",
       " tensor([ 5, 13, 13,  ..., 26, 24,  0]))"
      ]
     },
     "execution_count": 320,
     "metadata": {},
     "output_type": "execute_result"
    }
   ],
   "source": [
    "X, Y"
   ]
  },
  {
   "cell_type": "markdown",
   "id": "548c8541-a823-4c52-a467-f6b52e6aedbe",
   "metadata": {},
   "source": [
    "### **Question:**\n",
    "in Bengio et al. 2003 MLP language model paper they have 17000 words, and they embedded them in 30 dimensional space, what does this mean?\n",
    "\n",
    "ANS:\n",
    "Great question! Let’s break down the idea of **embedding 17,000 words into a 30-dimensional space**, as mentioned in the paper by Bengio et al., and understand what it means conceptually.\n",
    "\n",
    "---\n",
    "\n",
    "### **What Is an Embedding?**\n",
    "An **embedding** is a way of representing discrete objects (like words or characters) as continuous vectors in a mathematical space. These vectors capture relationships and patterns in the data that are learned during training.\n",
    "\n",
    "- In the Bengio et al. paper, they had **17,000 unique words** in their vocabulary. Each word is represented by a **30-dimensional vector**, meaning that each word is mapped to a point in a **30-dimensional space**.\n",
    "\n",
    "---\n",
    "\n",
    "### **Why Do We Embed Words?**\n",
    "Words are categorical (discrete) data, and neural networks cannot work directly with these symbols. Embedding words into a numerical vector space allows the neural network to:\n",
    "\n",
    "1. **Find Similarities Between Words:**  \n",
    "   Words with similar meanings or usage often end up with similar embeddings. For example:\n",
    "   - The words \"cat\" and \"dog\" might have embeddings that are close in the 30D space because they often appear in similar contexts.\n",
    "   - The word \"table\" might be farther away because it has a different meaning and usage.\n",
    "\n",
    "2. **Capture Semantic Relationships:**  \n",
    "   The embedding can capture relationships such as:\n",
    "   - **Analogy Relationships:** The difference between the embeddings for \"king\" and \"man\" might be similar to the difference between \"queen\" and \"woman.\"\n",
    "   - **Syntactic Relationships:** Words with similar grammatical roles might cluster together.\n",
    "\n",
    "3. **Reduce the Complexity of Representing Words:**  \n",
    "   Instead of using a one-hot encoding for the 17,000 words (a 17,000-dimensional vector where each word is represented by a single \"1\" and the rest are \"0\"), embeddings compress this into a 30-dimensional vector. This makes the model computationally efficient and more capable of learning meaningful patterns.\n",
    "\n",
    "---\n",
    "\n",
    "### **What Does 30-Dimensional Space Mean?**\n",
    "The **30-dimensional space** is the embedding space where each word is represented as a vector of 30 numbers. Each number (dimension) in the vector represents a feature or property of the word that the model learns during training.\n",
    "\n",
    "For example:\n",
    "- A word like \"cat\" might be represented as `[0.1, -0.3, 0.5, ..., 0.7]` (30 numbers).  \n",
    "- Another word like \"dog\" might be `[0.2, -0.2, 0.6, ..., 0.6]`.\n",
    "\n",
    "The model learns to organize the embeddings so that the relationships between the vectors reflect meaningful relationships between the words.\n",
    "\n",
    "---\n",
    "\n",
    "### **Analogy: Embedding Words into a Space**\n",
    "Imagine a library with 17,000 books, each of which needs to be described with 30 traits.  \n",
    "- These traits might include \"genre,\" \"number of pages,\" \"complexity of language,\" \"target audience,\" etc.  \n",
    "- Each book is assigned a 30-number summary that captures all these traits.\n",
    "\n",
    "Books with similar summaries (like novels vs. biographies) are close to each other in this 30-dimensional space. In the same way, words are embedded into a vector space where their relationships are reflected.\n",
    "\n",
    "---\n",
    "\n",
    "### **Why 30 Dimensions?**\n",
    "The choice of 30 dimensions is a trade-off:\n",
    "1. **Higher Dimensions Provide More Expressive Power:**  \n",
    "   More dimensions mean the model can capture more complex relationships between words. For example, with 30 dimensions, the model can encode up to 30 distinct properties or features for each word.\n",
    "\n",
    "2. **Lower Dimensions Prevent Overfitting and Reduce Computational Cost:**  \n",
    "   Too many dimensions (e.g., 300 for a small vocabulary) could cause overfitting, where the embeddings learn to perfectly distinguish words in the training data but fail to generalize.\n",
    "\n",
    "3. **Task-Specific Choice:**  \n",
    "   In this case, 30 dimensions were likely chosen because it struck a balance between capturing useful relationships and keeping computations manageable given the hardware limitations of 2003.\n",
    "\n",
    "---\n",
    "\n",
    "### **How Are These Embeddings Learned?**\n",
    "The embeddings are learned during training as part of the neural network. Here’s how it works:\n",
    "1. Each word starts with a randomly initialized 30D vector.\n",
    "2. As the network trains, these vectors are adjusted so that words used in similar contexts get similar embeddings.\n",
    "3. Over time, the embeddings capture meaningful patterns, like synonyms clustering together or capturing analogies.\n",
    "\n",
    "---\n",
    "\n",
    "### **Takeaway**\n",
    "The paper by Bengio et al. used a 30-dimensional embedding space to represent a vocabulary of 17,000 words. This embedding:\n",
    "- Transforms words into numerical vectors for the neural network.\n",
    "- Captures relationships and patterns between words.\n",
    "- Makes training more efficient and effective by reducing the dimensionality of word representations compared to one-hot encoding.  \n",
    "\n",
    "Let me know if you'd like further clarification!"
   ]
  },
  {
   "cell_type": "code",
   "execution_count": 321,
   "id": "e2a08b84-a34b-492d-9040-1bebd3dbe6cb",
   "metadata": {},
   "outputs": [],
   "source": [
    "# lookup table\n",
    "\n",
    "C = torch.randn((27, 2))"
   ]
  },
  {
   "cell_type": "code",
   "execution_count": 322,
   "id": "d26cd2ee-bc69-4f7d-8d4d-6b6fd567b6f0",
   "metadata": {},
   "outputs": [
    {
     "data": {
      "text/plain": [
       "tensor([[ 1.0080,  0.4913],\n",
       "        [-0.3323, -1.2580],\n",
       "        [ 1.7541,  0.2607],\n",
       "        [-0.5724,  0.7566],\n",
       "        [-0.8642, -1.4040],\n",
       "        [-1.1619, -1.3209],\n",
       "        [ 0.5500,  0.1643],\n",
       "        [ 1.0486,  0.8988],\n",
       "        [-0.5397,  1.1808],\n",
       "        [-2.3313,  0.1730],\n",
       "        [-1.0522, -1.0335],\n",
       "        [ 1.0122, -0.1002],\n",
       "        [ 0.7636, -1.2995],\n",
       "        [ 0.3233, -1.4804],\n",
       "        [ 1.2568, -1.7374],\n",
       "        [-0.5446, -2.3894],\n",
       "        [-0.9577,  1.6804],\n",
       "        [ 0.1881,  0.0519],\n",
       "        [-0.4938,  0.6679],\n",
       "        [ 0.9742,  0.6670],\n",
       "        [ 0.7116,  0.3088],\n",
       "        [ 1.2169, -0.0096],\n",
       "        [-0.4327,  0.2065],\n",
       "        [ 0.0579,  1.9397],\n",
       "        [-1.2172,  0.9667],\n",
       "        [-1.1438, -0.1546],\n",
       "        [ 0.7868,  1.0074]])"
      ]
     },
     "execution_count": 322,
     "metadata": {},
     "output_type": "execute_result"
    }
   ],
   "source": [
    "C"
   ]
  },
  {
   "cell_type": "code",
   "execution_count": 324,
   "id": "baa59d7b-4c69-49ee-97ea-4c10a218ef5e",
   "metadata": {},
   "outputs": [
    {
     "data": {
      "text/plain": [
       "(torch.Size([182625, 3]), torch.int64, torch.Size([182625]), torch.int64)"
      ]
     },
     "execution_count": 324,
     "metadata": {},
     "output_type": "execute_result"
    }
   ],
   "source": [
    "Xtr.shape, Xtr.dtype, Ytr.shape, Ytr.dtype"
   ]
  },
  {
   "cell_type": "code",
   "execution_count": 71,
   "id": "28c07476-fe6c-4d98-9f76-91b4b14ebfae",
   "metadata": {},
   "outputs": [
    {
     "data": {
      "text/plain": [
       "(tensor([[ 0,  0,  0],\n",
       "         [ 0,  0,  5],\n",
       "         [ 0,  5, 13],\n",
       "         [ 5, 13, 13],\n",
       "         [13, 13,  1],\n",
       "         [ 0,  0,  0],\n",
       "         [ 0,  0, 15],\n",
       "         [ 0, 15, 12],\n",
       "         [15, 12,  9],\n",
       "         [12,  9, 22],\n",
       "         [ 9, 22,  9],\n",
       "         [22,  9,  1],\n",
       "         [ 0,  0,  0],\n",
       "         [ 0,  0,  1],\n",
       "         [ 0,  1, 22],\n",
       "         [ 1, 22,  1],\n",
       "         [ 0,  0,  0],\n",
       "         [ 0,  0,  9],\n",
       "         [ 0,  9, 19],\n",
       "         [ 9, 19,  1],\n",
       "         [19,  1,  2],\n",
       "         [ 1,  2,  5],\n",
       "         [ 2,  5, 12],\n",
       "         [ 5, 12, 12],\n",
       "         [12, 12,  1],\n",
       "         [ 0,  0,  0],\n",
       "         [ 0,  0, 19],\n",
       "         [ 0, 19, 15],\n",
       "         [19, 15, 16],\n",
       "         [15, 16,  8],\n",
       "         [16,  8,  9],\n",
       "         [ 8,  9,  1]]),\n",
       " tensor([[ 0.0737,  0.0111],\n",
       "         [ 0.0291, -0.8841],\n",
       "         [ 0.4253,  0.5856],\n",
       "         [ 1.3073, -1.6223],\n",
       "         [ 0.3432, -0.4511],\n",
       "         [-0.3190, -1.7473],\n",
       "         [-0.0766, -0.1887],\n",
       "         [ 0.1779,  2.3618],\n",
       "         [ 0.4443,  0.5580],\n",
       "         [ 0.6650, -0.0091],\n",
       "         [ 0.5329, -0.7474],\n",
       "         [ 0.4240,  0.1281],\n",
       "         [-0.3322,  1.2976],\n",
       "         [-0.7780, -0.9879],\n",
       "         [-0.6477, -0.3677],\n",
       "         [-0.8419, -0.4078],\n",
       "         [ 1.9670,  0.5244],\n",
       "         [ 0.4300, -1.5243],\n",
       "         [-1.5967, -0.2421],\n",
       "         [ 0.2138,  0.5516],\n",
       "         [ 1.4523, -0.8469],\n",
       "         [ 0.2283, -1.4237],\n",
       "         [-0.2707,  0.3306],\n",
       "         [-0.2612, -0.8735],\n",
       "         [-0.8652,  1.6832],\n",
       "         [-0.2095, -1.0864],\n",
       "         [ 0.4558, -0.0665]]))"
      ]
     },
     "execution_count": 71,
     "metadata": {},
     "output_type": "execute_result"
    }
   ],
   "source": [
    "X, C"
   ]
  },
  {
   "cell_type": "code",
   "execution_count": 458,
   "id": "b6b8eab0-0794-4a01-81d8-a274b9af7dc2",
   "metadata": {},
   "outputs": [],
   "source": [
    "g = torch.Generator().manual_seed(2147483647) # random number generator. seed is used to generate same random numbers generated every time we run the program. \n",
    "C = torch.randn((27, 10), generator=g) #  \n",
    "W1 = torch.randn((30, 200), generator=g)\n",
    "b1 = torch.randn(200, generator=g)\n",
    "W2 = torch.randn((200, 27), generator=g)\n",
    "b2 = torch.randn(27, generator=g)\n",
    "parameters = [C, W1, b1, W2, b2]"
   ]
  },
  {
   "cell_type": "code",
   "execution_count": 459,
   "id": "65ad6285-5984-4485-83e9-98d2d97f4c99",
   "metadata": {},
   "outputs": [
    {
     "data": {
      "text/plain": [
       "11897"
      ]
     },
     "execution_count": 459,
     "metadata": {},
     "output_type": "execute_result"
    }
   ],
   "source": [
    "sum(p.nelement() for p in parameters)"
   ]
  },
  {
   "cell_type": "code",
   "execution_count": 460,
   "id": "f1e6eac1-6776-4985-89ab-33f0dd8e149c",
   "metadata": {},
   "outputs": [],
   "source": [
    "for p in parameters:\n",
    "    p.requires_grad = True\n"
   ]
  },
  {
   "cell_type": "code",
   "execution_count": 461,
   "id": "547e1300-ddba-407d-bbff-b1d82ed7666a",
   "metadata": {},
   "outputs": [],
   "source": [
    "lre = torch.linspace(-3, 0, 1000) # learning rate exponent\n",
    "lrs = 10 ** lre\n",
    "lri = []\n",
    "lossi = []\n",
    "stepi = []"
   ]
  },
  {
   "cell_type": "code",
   "execution_count": 462,
   "id": "84aa4202-7e5c-4393-b527-a3809eb7e0f8",
   "metadata": {},
   "outputs": [],
   "source": [
    "for i in range(200000):\n",
    "\n",
    "    # minibatch construct\n",
    "    ix = torch.randint(0, Xtr.shape[0], (32,))\n",
    "    \n",
    "    # farward pass\n",
    "    emb = C[Xtr[ix]]\n",
    "    h = torch.tanh(emb.view(-1, 30) @ W1 + b1)\n",
    "    logits = h @ W2 + b2\n",
    "    \n",
    "    # counts = logits.exp()\n",
    "    # prob = counts / counts.sum(1, keepdims=True)\n",
    "    # loss = -prob[torch.arange(32), Y].log().mean()\n",
    "    loss = F.cross_entropy(logits, Ytr[ix])\n",
    "    # print(loss.item())\n",
    "    # backward pass\n",
    "    for p in parameters:\n",
    "        p.grad = None\n",
    "    \n",
    "    loss.backward()\n",
    "\n",
    "    # lr = lrs[i]\n",
    "    lr = 0.1 if i < 100000 else 0.01\n",
    "    #update\n",
    "    for p in parameters:\n",
    "        p.data += -lr * p.grad\n",
    "\n",
    "    # lri.append(lre[i])\n",
    "    lossi.append(loss.log10().item())\n",
    "    stepi.append(i)"
   ]
  },
  {
   "cell_type": "code",
   "execution_count": 463,
   "id": "f1d1f988-7eff-470f-992e-f72bf11a428d",
   "metadata": {},
   "outputs": [
    {
     "data": {
      "text/plain": [
       "[<matplotlib.lines.Line2D at 0x1e1febc34a0>]"
      ]
     },
     "execution_count": 463,
     "metadata": {},
     "output_type": "execute_result"
    },
    {
     "data": {
      "image/png": "[encoded data removed]",
      "text/plain": [
       "<Figure size 640x480 with 1 Axes>"
      ]
     },
     "metadata": {},
     "output_type": "display_data"
    }
   ],
   "source": [
    "plt.plot(stepi, lossi)"
   ]
  },
  {
   "cell_type": "code",
   "execution_count": 464,
   "id": "96c3f021-d3c8-4395-ade7-08c29bcd21fe",
   "metadata": {},
   "outputs": [
    {
     "name": "stdout",
     "output_type": "stream",
     "text": [
      "2.1341586112976074\n"
     ]
    }
   ],
   "source": [
    "print(loss.item())"
   ]
  },
  {
   "cell_type": "code",
   "execution_count": 465,
   "id": "94588695-7d5f-4811-9f61-b8cf0544c895",
   "metadata": {},
   "outputs": [
    {
     "data": {
      "text/plain": [
       "tensor(2.1154, grad_fn=<NllLossBackward0>)"
      ]
     },
     "execution_count": 465,
     "metadata": {},
     "output_type": "execute_result"
    }
   ],
   "source": [
    "emb = C[Xtr]\n",
    "h = torch.tanh(emb.view(-1, 30) @ W1 + b1)\n",
    "logits = h @ W2 + b2\n",
    "loss = F.cross_entropy(logits, Ytr)\n",
    "loss"
   ]
  },
  {
   "cell_type": "code",
   "execution_count": 466,
   "id": "425c39ff-1c18-4da6-af06-b04ba3cbf978",
   "metadata": {},
   "outputs": [
    {
     "data": {
      "text/plain": [
       "tensor(2.1713, grad_fn=<NllLossBackward0>)"
      ]
     },
     "execution_count": 466,
     "metadata": {},
     "output_type": "execute_result"
    }
   ],
   "source": [
    "emb = C[Xdev]\n",
    "h = torch.tanh(emb.view(-1, 30) @ W1 + b1)\n",
    "logits = h @ W2 + b2\n",
    "loss = F.cross_entropy(logits, Ydev)\n",
    "loss"
   ]
  },
  {
   "cell_type": "code",
   "execution_count": 467,
   "id": "f03f5703-9409-4376-8fa6-dc6cc9ef0056",
   "metadata": {},
   "outputs": [
    {
     "data": {
      "image/png": "[encoded data removed]",
      "text/plain": [
       "<Figure size 800x800 with 1 Axes>"
      ]
     },
     "metadata": {},
     "output_type": "display_data"
    }
   ],
   "source": [
    "plt.figure(figsize=[8, 8])\n",
    "plt.scatter(C[:,0].data, C[:,1].data, s=200)\n",
    "for i in range(C.shape[0]):\n",
    "    plt.text(C[i,0].item(), C[i,1].item(), itos[i], ha=\"center\", va=\"center\", color=\"white\")\n",
    "plt.grid('minor')"
   ]
  },
  {
   "cell_type": "markdown",
   "id": "42210f09-9f47-40f0-b2b6-dd170b59cd56",
   "metadata": {},
   "source": [
    "# spliting data\n",
    "as parameters grows, this model becomes more capable of overfitting the training set. \n",
    "what this means is that the loss on the training set on the data we are training on\n",
    "will become very low as low a becoming zero but all that the model is doing is\n",
    "memorizing our training set verbatim. \n",
    "\n",
    "training split(80%), dev/validation split(10%), test split(10%)\n",
    "training split is used for training parameters, dev/validation split for training \n",
    "hyper parameters and test split is used for evaluate the performance of the model.\n",
    "\n",
    "# Analogy:\n",
    "Imagine you're a student preparing for a history exam. To study, you memorize every single detail of the textbook, including dates, names, footnotes, and even typos. On the exam, instead of general questions about historical events, the teacher gives you slightly different questions about the same topics.\n",
    "\n",
    "If you've only memorized the textbook word-for-word (overfitting), you might struggle to answer the new questions because you didn’t focus on understanding the broader concepts or themes.\n",
    "On the other hand, if you'd studied the general ideas, themes, and patterns in history (generalizing), you'd perform well on the exam because you can apply your knowledge flexibly, even if the questions are a bit different.\n",
    "In this analogy:\n",
    "\n",
    "Memorizing the textbook = Overfitting (the model learns the \"training data\" too specifically).\n",
    "Understanding history broadly = Generalizing (the model captures the underlying patterns).\n",
    "The slightly different exam = Test data (new, unseen data)."
   ]
  },
  {
   "cell_type": "code",
   "execution_count": 468,
   "id": "7a4a6850-8c2c-4f5d-860c-cb4e92ba01a4",
   "metadata": {},
   "outputs": [
    {
     "name": "stdout",
     "output_type": "stream",
     "text": [
      "mora.\n",
      "kayah.\n",
      "seel.\n",
      "niha.\n",
      "ala.\n",
      "emmaniendraige.\n",
      "zeredieliia.\n",
      "miloen.\n",
      "edelson.\n",
      "anar.\n",
      "katelos.\n",
      "kalin.\n",
      "shabergias.\n",
      "jest.\n",
      "jair.\n",
      "jelipanthona.\n",
      "ube.\n",
      "ged.\n",
      "rhylene.\n",
      "ehs.\n"
     ]
    }
   ],
   "source": [
    "g = torch.Generator().manual_seed(2147483647 + 10)\n",
    "for _ in range(20):\n",
    "    out = []\n",
    "    context = [0] * block_size\n",
    "    while True:\n",
    "        emb = C[torch .tensor([context])]\n",
    "        h = torch.tanh(emb.view(1, -1) @ W1 + b1)\n",
    "        logits = h @ W2 + b2\n",
    "        probs = F.softmax(logits, dim=1)\n",
    "        ix = torch.multinomial(probs, num_samples=1, generator=g).item()\n",
    "        context = context[1:] + [ix]\n",
    "        out.append(ix)\n",
    "        if ix == 0:\n",
    "            break\n",
    "    print(\"\".join(itos[i] for i in out))"
   ]
  },
  {
   "cell_type": "code",
   "execution_count": null,
   "id": "3274c977-1b86-4632-9409-e162935b42ef",
   "metadata": {},
   "outputs": [],
   "source": []
  }
 ],
 "metadata": {
  "kernelspec": {
   "display_name": "Python 3 (ipykernel)",
   "language": "python",
   "name": "python3"
  },
  "language_info": {
   "codemirror_mode": {
    "name": "ipython",
    "version": 3
   },
   "file_extension": ".py",
   "mimetype": "text/x-python",
   "name": "python",
   "nbconvert_exporter": "python",
   "pygments_lexer": "ipython3",
   "version": "3.12.8"
  }
 },
 "nbformat": 4,
 "nbformat_minor": 5
}
